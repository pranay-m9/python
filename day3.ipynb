{
 "cells": [
  {
   "cell_type": "code",
   "execution_count": null,
   "id": "830133b7",
   "metadata": {},
   "outputs": [],
   "source": [
    "# strings\n"
   ]
  },
  {
   "cell_type": "code",
   "execution_count": 1,
   "id": "748a8872",
   "metadata": {},
   "outputs": [
    {
     "ename": "SyntaxError",
     "evalue": "invalid syntax (<ipython-input-1-b49a1b7af43b>, line 1)",
     "output_type": "error",
     "traceback": [
      "\u001b[1;36m  File \u001b[1;32m\"<ipython-input-1-b49a1b7af43b>\"\u001b[1;36m, line \u001b[1;32m1\u001b[0m\n\u001b[1;33m    10mteropolitan=\"hyderabad\"\u001b[0m\n\u001b[1;37m      ^\u001b[0m\n\u001b[1;31mSyntaxError\u001b[0m\u001b[1;31m:\u001b[0m invalid syntax\n"
     ]
    }
   ],
   "source": [
    "10mteropolitan=\"hyderabad\""
   ]
  },
  {
   "cell_type": "code",
   "execution_count": 2,
   "id": "07415dd5",
   "metadata": {},
   "outputs": [
    {
     "ename": "SyntaxError",
     "evalue": "invalid syntax (<ipython-input-2-58adb4719228>, line 1)",
     "output_type": "error",
     "traceback": [
      "\u001b[1;36m  File \u001b[1;32m\"<ipython-input-2-58adb4719228>\"\u001b[1;36m, line \u001b[1;32m1\u001b[0m\n\u001b[1;33m    7 metropolitan= \" guntur\"\u001b[0m\n\u001b[1;37m      ^\u001b[0m\n\u001b[1;31mSyntaxError\u001b[0m\u001b[1;31m:\u001b[0m invalid syntax\n"
     ]
    }
   ],
   "source": [
    "7 metropolitan= \" guntur\""
   ]
  },
  {
   "cell_type": "code",
   "execution_count": 5,
   "id": "0786706f",
   "metadata": {},
   "outputs": [],
   "source": [
    "metropolitan= \"guntur\""
   ]
  },
  {
   "cell_type": "code",
   "execution_count": 6,
   "id": "f2191949",
   "metadata": {},
   "outputs": [
    {
     "data": {
      "text/plain": [
       "'guntur'"
      ]
     },
     "execution_count": 6,
     "metadata": {},
     "output_type": "execute_result"
    }
   ],
   "source": [
    "metropolitan\n"
   ]
  },
  {
   "cell_type": "code",
   "execution_count": null,
   "id": "0e5889db",
   "metadata": {},
   "outputs": [],
   "source": [
    "pr@nay=python"
   ]
  },
  {
   "cell_type": "code",
   "execution_count": 7,
   "id": "d49e9f63",
   "metadata": {},
   "outputs": [
    {
     "ename": "NameError",
     "evalue": "name 'pr' is not defined",
     "output_type": "error",
     "traceback": [
      "\u001b[1;31m---------------------------------------------------------------------------\u001b[0m",
      "\u001b[1;31mNameError\u001b[0m                                 Traceback (most recent call last)",
      "\u001b[1;32m<ipython-input-7-36b53408989c>\u001b[0m in \u001b[0;36m<module>\u001b[1;34m\u001b[0m\n\u001b[1;32m----> 1\u001b[1;33m \u001b[0mprint\u001b[0m\u001b[1;33m(\u001b[0m\u001b[0mpr\u001b[0m\u001b[1;33m@\u001b[0m\u001b[0mnay\u001b[0m\u001b[1;33m)\u001b[0m\u001b[1;33m\u001b[0m\u001b[1;33m\u001b[0m\u001b[0m\n\u001b[0m",
      "\u001b[1;31mNameError\u001b[0m: name 'pr' is not defined"
     ]
    }
   ],
   "source": [
    "print(pr@nay)"
   ]
  },
  {
   "cell_type": "code",
   "execution_count": null,
   "id": "e75f0b84",
   "metadata": {},
   "outputs": [],
   "source": [
    "bombay=\"mumbai\""
   ]
  },
  {
   "cell_type": "code",
   "execution_count": 34,
   "id": "540e8bca",
   "metadata": {},
   "outputs": [
    {
     "ename": "NameError",
     "evalue": "name 'bombay' is not defined",
     "output_type": "error",
     "traceback": [
      "\u001b[1;31m---------------------------------------------------------------------------\u001b[0m",
      "\u001b[1;31mNameError\u001b[0m                                 Traceback (most recent call last)",
      "\u001b[1;32m<ipython-input-34-541332631139>\u001b[0m in \u001b[0;36m<module>\u001b[1;34m\u001b[0m\n\u001b[1;32m----> 1\u001b[1;33m \u001b[0mprint\u001b[0m\u001b[1;33m(\u001b[0m\u001b[0mbombay\u001b[0m\u001b[1;33m)\u001b[0m\u001b[1;33m\u001b[0m\u001b[1;33m\u001b[0m\u001b[0m\n\u001b[0m",
      "\u001b[1;31mNameError\u001b[0m: name 'bombay' is not defined"
     ]
    }
   ],
   "source": [
    "print(bombay)\n"
   ]
  },
  {
   "cell_type": "code",
   "execution_count": null,
   "id": "0c6b9f07",
   "metadata": {},
   "outputs": [],
   "source": [
    "----------------- here the bombay is defined na why it is showing like that error"
   ]
  },
  {
   "cell_type": "code",
   "execution_count": null,
   "id": "2e9bca1e",
   "metadata": {},
   "outputs": [],
   "source": []
  },
  {
   "cell_type": "code",
   "execution_count": null,
   "id": "a8b5095d",
   "metadata": {},
   "outputs": [],
   "source": [
    "bombay= \"mumbai\""
   ]
  },
  {
   "cell_type": "code",
   "execution_count": 46,
   "id": "d7cb29f3",
   "metadata": {},
   "outputs": [
    {
     "ename": "NameError",
     "evalue": "name 'bombay' is not defined",
     "output_type": "error",
     "traceback": [
      "\u001b[1;31m---------------------------------------------------------------------------\u001b[0m",
      "\u001b[1;31mNameError\u001b[0m                                 Traceback (most recent call last)",
      "\u001b[1;32m<ipython-input-46-541332631139>\u001b[0m in \u001b[0;36m<module>\u001b[1;34m\u001b[0m\n\u001b[1;32m----> 1\u001b[1;33m \u001b[0mprint\u001b[0m\u001b[1;33m(\u001b[0m\u001b[0mbombay\u001b[0m\u001b[1;33m)\u001b[0m\u001b[1;33m\u001b[0m\u001b[1;33m\u001b[0m\u001b[0m\n\u001b[0m",
      "\u001b[1;31mNameError\u001b[0m: name 'bombay' is not defined"
     ]
    }
   ],
   "source": [
    "print(bombay)"
   ]
  },
  {
   "cell_type": "code",
   "execution_count": null,
   "id": "e565151d",
   "metadata": {},
   "outputs": [],
   "source": [
    "----------------- here it has to show ''''''mumbai'''''' na again it is showing bombay."
   ]
  },
  {
   "cell_type": "code",
   "execution_count": null,
   "id": "8adf6833",
   "metadata": {},
   "outputs": [],
   "source": []
  },
  {
   "cell_type": "code",
   "execution_count": null,
   "id": "fc9b4690",
   "metadata": {},
   "outputs": [],
   "source": []
  },
  {
   "cell_type": "code",
   "execution_count": 23,
   "id": "4ab142cf",
   "metadata": {},
   "outputs": [
    {
     "name": "stdout",
     "output_type": "stream",
     "text": [
      "python\n"
     ]
    }
   ],
   "source": [
    "print(\"python\")"
   ]
  },
  {
   "cell_type": "code",
   "execution_count": 24,
   "id": "d32d8a01",
   "metadata": {},
   "outputs": [],
   "source": [
    "python=\"\"\"\"it is very good language and i am strating \n",
    "           from scratch through online\"\"\""
   ]
  },
  {
   "cell_type": "code",
   "execution_count": 45,
   "id": "9a9bfa00",
   "metadata": {},
   "outputs": [
    {
     "name": "stdout",
     "output_type": "stream",
     "text": [
      "it is very good language and i am strating \n",
      "           from scratch through online\n"
     ]
    }
   ],
   "source": [
    "print(python)"
   ]
  },
  {
   "cell_type": "code",
   "execution_count": 51,
   "id": "086cedb1",
   "metadata": {},
   "outputs": [
    {
     "name": "stdout",
     "output_type": "stream",
     "text": [
      "dinesh,karthik,harsha,sk,ajith,bhanu\n"
     ]
    }
   ],
   "source": [
    "friends=\"dinesh,karthik,harsha,sk,ajith,bhanu\"\n",
    "print(friends)"
   ]
  },
  {
   "cell_type": "code",
   "execution_count": 52,
   "id": "0bfd8e88",
   "metadata": {},
   "outputs": [
    {
     "name": "stdout",
     "output_type": "stream",
     "text": [
      "DINESH,KARTHIK,HARSHA,SK,AJITH,BHANU\n"
     ]
    }
   ],
   "source": [
    "print(friends.upper())"
   ]
  },
  {
   "cell_type": "code",
   "execution_count": 53,
   "id": "5cf7eae1",
   "metadata": {},
   "outputs": [
    {
     "name": "stdout",
     "output_type": "stream",
     "text": [
      "dinesh,karthik,harsha,sk,ajith,bhanu\n"
     ]
    }
   ],
   "source": [
    "print(friends.lower())"
   ]
  },
  {
   "cell_type": "code",
   "execution_count": 54,
   "id": "09ba674f",
   "metadata": {},
   "outputs": [
    {
     "name": "stdout",
     "output_type": "stream",
     "text": [
      "Dinesh,Karthik,Harsha,Sk,Ajith,Bhanu\n"
     ]
    }
   ],
   "source": [
    "print(friends.title())"
   ]
  },
  {
   "cell_type": "code",
   "execution_count": 57,
   "id": "a9d8f09c",
   "metadata": {},
   "outputs": [
    {
     "ename": "AttributeError",
     "evalue": "'str' object has no attribute 'add'",
     "output_type": "error",
     "traceback": [
      "\u001b[1;31m---------------------------------------------------------------------------\u001b[0m",
      "\u001b[1;31mAttributeError\u001b[0m                            Traceback (most recent call last)",
      "\u001b[1;32m<ipython-input-57-83e789f9e8a7>\u001b[0m in \u001b[0;36m<module>\u001b[1;34m\u001b[0m\n\u001b[1;32m----> 1\u001b[1;33m \u001b[0mprint\u001b[0m\u001b[1;33m(\u001b[0m\u001b[0mfriends\u001b[0m\u001b[1;33m.\u001b[0m\u001b[0madd\u001b[0m\u001b[1;33m(\u001b[0m\u001b[0mjaffa\u001b[0m\u001b[1;33m)\u001b[0m\u001b[1;33m)\u001b[0m\u001b[1;33m\u001b[0m\u001b[1;33m\u001b[0m\u001b[0m\n\u001b[0m",
      "\u001b[1;31mAttributeError\u001b[0m: 'str' object has no attribute 'add'"
     ]
    }
   ],
   "source": [
    "print(friends.add(jaffa))"
   ]
  },
  {
   "cell_type": "code",
   "execution_count": 71,
   "id": "bfb336bf",
   "metadata": {},
   "outputs": [],
   "source": [
    "learning=\"we can learn from different source such as \\n youtube\"\n"
   ]
  },
  {
   "cell_type": "code",
   "execution_count": 80,
   "id": "aa4030f6",
   "metadata": {},
   "outputs": [
    {
     "name": "stdout",
     "output_type": "stream",
     "text": [
      "we can learn from differentsourcesuch as\n",
      "youtube\n"
     ]
    }
   ],
   "source": [
    "print(learning)"
   ]
  },
  {
   "cell_type": "code",
   "execution_count": 89,
   "id": "ae13c292",
   "metadata": {},
   "outputs": [],
   "source": [
    "earning=\"we can earn from different source such as \\t youtube\""
   ]
  },
  {
   "cell_type": "code",
   "execution_count": 92,
   "id": "c46208c9",
   "metadata": {},
   "outputs": [
    {
     "name": "stdout",
     "output_type": "stream",
     "text": [
      "we can earn from different source such as \t youtube\n"
     ]
    }
   ],
   "source": [
    "print(earning)"
   ]
  },
  {
   "cell_type": "code",
   "execution_count": null,
   "id": "c02a422e",
   "metadata": {},
   "outputs": [],
   "source": [
    "x=\"python\""
   ]
  },
  {
   "cell_type": "code",
   "execution_count": 117,
   "id": "f008f14d",
   "metadata": {},
   "outputs": [
    {
     "ename": "NameError",
     "evalue": "name 'x' is not defined",
     "output_type": "error",
     "traceback": [
      "\u001b[1;31m---------------------------------------------------------------------------\u001b[0m",
      "\u001b[1;31mNameError\u001b[0m                                 Traceback (most recent call last)",
      "\u001b[1;32m<ipython-input-117-0f0c5f448ab9>\u001b[0m in \u001b[0;36m<module>\u001b[1;34m\u001b[0m\n\u001b[1;32m----> 1\u001b[1;33m \u001b[0mprint\u001b[0m\u001b[1;33m(\u001b[0m\u001b[0mx\u001b[0m\u001b[1;33m[\u001b[0m\u001b[1;36m0\u001b[0m\u001b[1;33m:\u001b[0m\u001b[1;36m4\u001b[0m\u001b[1;33m]\u001b[0m\u001b[1;33m)\u001b[0m\u001b[1;33m\u001b[0m\u001b[1;33m\u001b[0m\u001b[0m\n\u001b[0m",
      "\u001b[1;31mNameError\u001b[0m: name 'x' is not defined"
     ]
    }
   ],
   "source": [
    "print(x[0:4])"
   ]
  },
  {
   "cell_type": "code",
   "execution_count": 119,
   "id": "bc2784cb",
   "metadata": {},
   "outputs": [],
   "source": [
    "name = 'jupyter'"
   ]
  },
  {
   "cell_type": "code",
   "execution_count": 120,
   "id": "35ee9123",
   "metadata": {},
   "outputs": [
    {
     "data": {
      "text/plain": [
       "'jupyter'"
      ]
     },
     "execution_count": 120,
     "metadata": {},
     "output_type": "execute_result"
    }
   ],
   "source": [
    "name\n"
   ]
  },
  {
   "cell_type": "code",
   "execution_count": 121,
   "id": "1ea515e7",
   "metadata": {},
   "outputs": [
    {
     "data": {
      "text/plain": [
       "'jupyteranaconda'"
      ]
     },
     "execution_count": 121,
     "metadata": {},
     "output_type": "execute_result"
    }
   ],
   "source": [
    "name + 'anaconda'"
   ]
  },
  {
   "cell_type": "code",
   "execution_count": 123,
   "id": "7d7e9870",
   "metadata": {},
   "outputs": [
    {
     "data": {
      "text/plain": [
       "'jupyteranya'"
      ]
     },
     "execution_count": 123,
     "metadata": {},
     "output_type": "execute_result"
    }
   ],
   "source": [
    "name + \"anya\""
   ]
  },
  {
   "cell_type": "code",
   "execution_count": 125,
   "id": "2ae72a73",
   "metadata": {},
   "outputs": [
    {
     "data": {
      "text/plain": [
       "'j'"
      ]
     },
     "execution_count": 125,
     "metadata": {},
     "output_type": "execute_result"
    }
   ],
   "source": [
    "name[0]"
   ]
  },
  {
   "cell_type": "code",
   "execution_count": 126,
   "id": "2485ae45",
   "metadata": {},
   "outputs": [
    {
     "data": {
      "text/plain": [
       "'upy'"
      ]
     },
     "execution_count": 126,
     "metadata": {},
     "output_type": "execute_result"
    }
   ],
   "source": [
    "name[1:4]"
   ]
  },
  {
   "cell_type": "code",
   "execution_count": 127,
   "id": "42875ac4",
   "metadata": {},
   "outputs": [
    {
     "data": {
      "text/plain": [
       "'jupyter'"
      ]
     },
     "execution_count": 127,
     "metadata": {},
     "output_type": "execute_result"
    }
   ],
   "source": [
    "name[ :10]"
   ]
  },
  {
   "cell_type": "code",
   "execution_count": 128,
   "id": "fafebeeb",
   "metadata": {},
   "outputs": [
    {
     "data": {
      "text/plain": [
       "'jupyter'"
      ]
     },
     "execution_count": 128,
     "metadata": {},
     "output_type": "execute_result"
    }
   ],
   "source": [
    "name[0: ]"
   ]
  },
  {
   "cell_type": "code",
   "execution_count": 129,
   "id": "5f558e53",
   "metadata": {},
   "outputs": [
    {
     "data": {
      "text/plain": [
       "''"
      ]
     },
     "execution_count": 129,
     "metadata": {},
     "output_type": "execute_result"
    }
   ],
   "source": [
    "name[-1:-4]"
   ]
  },
  {
   "cell_type": "code",
   "execution_count": null,
   "id": "fdbebd32",
   "metadata": {},
   "outputs": [],
   "source": [
    "----------------- why here it is empty  string  (doubt)"
   ]
  },
  {
   "cell_type": "code",
   "execution_count": 132,
   "id": "7203523b",
   "metadata": {},
   "outputs": [
    {
     "data": {
      "text/plain": [
       "'up'"
      ]
     },
     "execution_count": 132,
     "metadata": {},
     "output_type": "execute_result"
    }
   ],
   "source": [
    "name [1:-4]"
   ]
  },
  {
   "cell_type": "code",
   "execution_count": 133,
   "id": "c1280891",
   "metadata": {},
   "outputs": [
    {
     "data": {
      "text/plain": [
       "'j'"
      ]
     },
     "execution_count": 133,
     "metadata": {},
     "output_type": "execute_result"
    }
   ],
   "source": [
    "name[0:-6]"
   ]
  },
  {
   "cell_type": "code",
   "execution_count": 135,
   "id": "340e98c1",
   "metadata": {},
   "outputs": [
    {
     "data": {
      "text/plain": [
       "str"
      ]
     },
     "execution_count": 135,
     "metadata": {},
     "output_type": "execute_result"
    }
   ],
   "source": [
    "type(name)"
   ]
  },
  {
   "cell_type": "code",
   "execution_count": 136,
   "id": "8d1ddcf1",
   "metadata": {},
   "outputs": [
    {
     "data": {
      "text/plain": [
       "7"
      ]
     },
     "execution_count": 136,
     "metadata": {},
     "output_type": "execute_result"
    }
   ],
   "source": [
    "len(name)"
   ]
  },
  {
   "cell_type": "code",
   "execution_count": 148,
   "id": "d4658aae",
   "metadata": {},
   "outputs": [],
   "source": [
    "name=\"jupyter\""
   ]
  },
  {
   "cell_type": "code",
   "execution_count": 149,
   "id": "ae6c5c51",
   "metadata": {},
   "outputs": [
    {
     "data": {
      "text/plain": [
       "'jupyter'"
      ]
     },
     "execution_count": 149,
     "metadata": {},
     "output_type": "execute_result"
    }
   ],
   "source": [
    "name"
   ]
  },
  {
   "cell_type": "code",
   "execution_count": 150,
   "id": "be405716",
   "metadata": {},
   "outputs": [
    {
     "data": {
      "text/plain": [
       "'jpt'"
      ]
     },
     "execution_count": 150,
     "metadata": {},
     "output_type": "execute_result"
    }
   ],
   "source": [
    "name[0:6:2]"
   ]
  },
  {
   "cell_type": "code",
   "execution_count": 151,
   "id": "b3c88f52",
   "metadata": {},
   "outputs": [
    {
     "data": {
      "text/plain": [
       "'jyr'"
      ]
     },
     "execution_count": 151,
     "metadata": {},
     "output_type": "execute_result"
    }
   ],
   "source": [
    "name[:7:3]"
   ]
  },
  {
   "cell_type": "code",
   "execution_count": 152,
   "id": "efe2eddc",
   "metadata": {},
   "outputs": [
    {
     "data": {
      "text/plain": [
       "'rtpj'"
      ]
     },
     "execution_count": 152,
     "metadata": {},
     "output_type": "execute_result"
    }
   ],
   "source": [
    "name[ : :-2]"
   ]
  },
  {
   "cell_type": "code",
   "execution_count": 157,
   "id": "90ce88f7",
   "metadata": {},
   "outputs": [
    {
     "data": {
      "text/plain": [
       "'pyt'"
      ]
     },
     "execution_count": 157,
     "metadata": {},
     "output_type": "execute_result"
    }
   ],
   "source": [
    "name[-5:-2]"
   ]
  },
  {
   "cell_type": "code",
   "execution_count": 159,
   "id": "3447d594",
   "metadata": {},
   "outputs": [
    {
     "data": {
      "text/plain": [
       "'pranay'"
      ]
     },
     "execution_count": 159,
     "metadata": {},
     "output_type": "execute_result"
    }
   ],
   "source": [
    "name = \"pranay\"\n",
    "name"
   ]
  },
  {
   "cell_type": "code",
   "execution_count": 162,
   "id": "a651306f",
   "metadata": {},
   "outputs": [
    {
     "data": {
      "text/plain": [
       "2"
      ]
     },
     "execution_count": 162,
     "metadata": {},
     "output_type": "execute_result"
    }
   ],
   "source": [
    "name.count('a')"
   ]
  },
  {
   "cell_type": "code",
   "execution_count": 163,
   "id": "fe86bba8",
   "metadata": {},
   "outputs": [
    {
     "data": {
      "text/plain": [
       "5"
      ]
     },
     "execution_count": 163,
     "metadata": {},
     "output_type": "execute_result"
    }
   ],
   "source": [
    "name.find(\"y\")"
   ]
  },
  {
   "cell_type": "code",
   "execution_count": 164,
   "id": "0c895e42",
   "metadata": {},
   "outputs": [
    {
     "data": {
      "text/plain": [
       "3"
      ]
     },
     "execution_count": 164,
     "metadata": {},
     "output_type": "execute_result"
    }
   ],
   "source": [
    "name.index(\"n\")"
   ]
  },
  {
   "cell_type": "code",
   "execution_count": 165,
   "id": "a84ecf67",
   "metadata": {},
   "outputs": [
    {
     "data": {
      "text/plain": [
       "True"
      ]
     },
     "execution_count": 165,
     "metadata": {},
     "output_type": "execute_result"
    }
   ],
   "source": [
    "name.isalpha()"
   ]
  },
  {
   "cell_type": "code",
   "execution_count": 167,
   "id": "8cd2ae7a",
   "metadata": {},
   "outputs": [
    {
     "data": {
      "text/plain": [
       "True"
      ]
     },
     "execution_count": 167,
     "metadata": {},
     "output_type": "execute_result"
    }
   ],
   "source": [
    "name.isalnum()"
   ]
  },
  {
   "cell_type": "code",
   "execution_count": 169,
   "id": "dd5382f4",
   "metadata": {},
   "outputs": [
    {
     "data": {
      "text/plain": [
       "True"
      ]
     },
     "execution_count": 169,
     "metadata": {},
     "output_type": "execute_result"
    }
   ],
   "source": [
    "name.islower()"
   ]
  },
  {
   "cell_type": "code",
   "execution_count": 171,
   "id": "f76e768d",
   "metadata": {},
   "outputs": [
    {
     "data": {
      "text/plain": [
       "False"
      ]
     },
     "execution_count": 171,
     "metadata": {},
     "output_type": "execute_result"
    }
   ],
   "source": [
    "name.isdecimal()"
   ]
  },
  {
   "cell_type": "code",
   "execution_count": 172,
   "id": "0fb0ab9c",
   "metadata": {},
   "outputs": [
    {
     "data": {
      "text/plain": [
       "'pr@n@y'"
      ]
     },
     "execution_count": 172,
     "metadata": {},
     "output_type": "execute_result"
    }
   ],
   "source": [
    "name.replace('a','@')"
   ]
  },
  {
   "cell_type": "code",
   "execution_count": null,
   "id": "f151e81f",
   "metadata": {},
   "outputs": [],
   "source": []
  },
  {
   "cell_type": "code",
   "execution_count": null,
   "id": "58f506f8",
   "metadata": {},
   "outputs": [],
   "source": []
  },
  {
   "cell_type": "code",
   "execution_count": null,
   "id": "4581c9b2",
   "metadata": {},
   "outputs": [],
   "source": [
    "f-strings"
   ]
  },
  {
   "cell_type": "code",
   "execution_count": null,
   "id": "31bfca06",
   "metadata": {},
   "outputs": [],
   "source": []
  },
  {
   "cell_type": "code",
   "execution_count": 188,
   "id": "64fc0e5d",
   "metadata": {},
   "outputs": [
    {
     "ename": "SyntaxError",
     "evalue": "cannot assign to operator (<ipython-input-188-1b9508aae762>, line 1)",
     "output_type": "error",
     "traceback": [
      "\u001b[1;36m  File \u001b[1;32m\"<ipython-input-188-1b9508aae762>\"\u001b[1;36m, line \u001b[1;32m1\u001b[0m\n\u001b[1;33m    first-name=\"pranay\"\u001b[0m\n\u001b[1;37m    ^\u001b[0m\n\u001b[1;31mSyntaxError\u001b[0m\u001b[1;31m:\u001b[0m cannot assign to operator\n"
     ]
    }
   ],
   "source": [
    "first-name=\"pranay\"\n",
    "last-name=\"muddulru\""
   ]
  },
  {
   "cell_type": "code",
   "execution_count": 189,
   "id": "dcaf8c2c",
   "metadata": {},
   "outputs": [
    {
     "ename": "SyntaxError",
     "evalue": "cannot assign to operator (<ipython-input-189-e5c733a31451>, line 1)",
     "output_type": "error",
     "traceback": [
      "\u001b[1;36m  File \u001b[1;32m\"<ipython-input-189-e5c733a31451>\"\u001b[1;36m, line \u001b[1;32m1\u001b[0m\n\u001b[1;33m    full-name=f\"{first-name}{last-name}\"\u001b[0m\n\u001b[1;37m    ^\u001b[0m\n\u001b[1;31mSyntaxError\u001b[0m\u001b[1;31m:\u001b[0m cannot assign to operator\n"
     ]
    }
   ],
   "source": [
    "full-name=f\"{first-name}{last-name}\""
   ]
  },
  {
   "cell_type": "code",
   "execution_count": 190,
   "id": "278170b0",
   "metadata": {},
   "outputs": [
    {
     "ename": "NameError",
     "evalue": "name 'full' is not defined",
     "output_type": "error",
     "traceback": [
      "\u001b[1;31m---------------------------------------------------------------------------\u001b[0m",
      "\u001b[1;31mNameError\u001b[0m                                 Traceback (most recent call last)",
      "\u001b[1;32m<ipython-input-190-4f81905a4a55>\u001b[0m in \u001b[0;36m<module>\u001b[1;34m\u001b[0m\n\u001b[1;32m----> 1\u001b[1;33m \u001b[0mprint\u001b[0m\u001b[1;33m(\u001b[0m\u001b[0mfull\u001b[0m\u001b[1;33m-\u001b[0m\u001b[0mname\u001b[0m\u001b[1;33m)\u001b[0m\u001b[1;33m\u001b[0m\u001b[1;33m\u001b[0m\u001b[0m\n\u001b[0m",
      "\u001b[1;31mNameError\u001b[0m: name 'full' is not defined"
     ]
    }
   ],
   "source": [
    "print(full-name)"
   ]
  },
  {
   "cell_type": "code",
   "execution_count": null,
   "id": "deb6641f",
   "metadata": {},
   "outputs": [],
   "source": [
    "-------------------------why it is showing error? (doubt)"
   ]
  },
  {
   "cell_type": "code",
   "execution_count": null,
   "id": "043ddcda",
   "metadata": {},
   "outputs": [],
   "source": []
  },
  {
   "cell_type": "code",
   "execution_count": null,
   "id": "0b2eac48",
   "metadata": {},
   "outputs": [],
   "source": []
  },
  {
   "cell_type": "code",
   "execution_count": null,
   "id": "36800b50",
   "metadata": {},
   "outputs": [],
   "source": []
  }
 ],
 "metadata": {
  "kernelspec": {
   "display_name": "Python 3",
   "language": "python",
   "name": "python3"
  },
  "language_info": {
   "codemirror_mode": {
    "name": "ipython",
    "version": 3
   },
   "file_extension": ".py",
   "mimetype": "text/x-python",
   "name": "python",
   "nbconvert_exporter": "python",
   "pygments_lexer": "ipython3",
   "version": "3.8.8"
  }
 },
 "nbformat": 4,
 "nbformat_minor": 5
}
