{
 "cells": [
  {
   "cell_type": "code",
   "execution_count": 1,
   "id": "a0c767bc",
   "metadata": {},
   "outputs": [
    {
     "name": "stdout",
     "output_type": "stream",
     "text": [
      "pranay\n"
     ]
    }
   ],
   "source": [
    "print(\"pranay\")"
   ]
  },
  {
   "cell_type": "code",
   "execution_count": 2,
   "id": "04f57229",
   "metadata": {},
   "outputs": [
    {
     "name": "stdout",
     "output_type": "stream",
     "text": [
      "praveen\n"
     ]
    }
   ],
   "source": [
    "print(\"praveen\")"
   ]
  },
  {
   "cell_type": "code",
   "execution_count": 3,
   "id": "ed787e16",
   "metadata": {},
   "outputs": [
    {
     "name": "stdout",
     "output_type": "stream",
     "text": [
      "PYTHON\n"
     ]
    }
   ],
   "source": [
    "print(\"PYTHON\")"
   ]
  },
  {
   "cell_type": "code",
   "execution_count": 6,
   "id": "baeac343",
   "metadata": {},
   "outputs": [],
   "source": [
    "last_name=\"praven\"\n",
    "first_name=\"pranay\""
   ]
  },
  {
   "cell_type": "code",
   "execution_count": 7,
   "id": "60f4698d",
   "metadata": {},
   "outputs": [],
   "source": [
    "complete_name=f\"{first_name} {last_name}\"\n"
   ]
  },
  {
   "cell_type": "code",
   "execution_count": 9,
   "id": "05f73a59",
   "metadata": {},
   "outputs": [
    {
     "name": "stdout",
     "output_type": "stream",
     "text": [
      "pranay praven\n"
     ]
    }
   ],
   "source": [
    "print(complete_name)"
   ]
  },
  {
   "cell_type": "code",
   "execution_count": null,
   "id": "bda96ee2",
   "metadata": {},
   "outputs": [],
   "source": []
  },
  {
   "cell_type": "code",
   "execution_count": null,
   "id": "aa237f4f",
   "metadata": {},
   "outputs": [],
   "source": []
  },
  {
   "cell_type": "code",
   "execution_count": null,
   "id": "1e05064b",
   "metadata": {},
   "outputs": [],
   "source": []
  },
  {
   "cell_type": "code",
   "execution_count": null,
   "id": "23377498",
   "metadata": {},
   "outputs": [],
   "source": []
  }
 ],
 "metadata": {
  "kernelspec": {
   "display_name": "Python 3",
   "language": "python",
   "name": "python3"
  },
  "language_info": {
   "codemirror_mode": {
    "name": "ipython",
    "version": 3
   },
   "file_extension": ".py",
   "mimetype": "text/x-python",
   "name": "python",
   "nbconvert_exporter": "python",
   "pygments_lexer": "ipython3",
   "version": "3.8.8"
  }
 },
 "nbformat": 4,
 "nbformat_minor": 5
}
